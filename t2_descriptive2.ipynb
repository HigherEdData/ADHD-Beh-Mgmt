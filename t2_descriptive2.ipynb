{
 "cells": [
  {
   "cell_type": "code",
   "execution_count": 3,
   "id": "ae28d09a-3ba7-4440-85a0-5e28e78958b7",
   "metadata": {
    "tags": []
   },
   "outputs": [],
   "source": [
    "use data/Cleaned_Data.dta, clear"
   ]
  },
  {
   "cell_type": "code",
   "execution_count": 4,
   "id": "0f6f808e-d505-4f7e-b687-1d810ad6e9cc",
   "metadata": {
    "tags": []
   },
   "outputs": [
    {
     "name": "stdout",
     "output_type": "stream",
     "text": [
      "\n",
      "                  School Contact Dummy Var\n",
      "-------------------------------------------------------------\n",
      "      Percentiles      Smallest\n",
      " 1%            0              0\n",
      " 5%            0              0\n",
      "10%            0              0       Obs              33,876\n",
      "25%            0              0       Sum of wgt.      33,876\n",
      "\n",
      "50%            0                      Mean           .2352108\n",
      "                        Largest       Std. dev.      .4241367\n",
      "75%            0              1\n",
      "90%            1              1       Variance        .179892\n",
      "95%            1              1       Skewness       1.248622\n",
      "99%            1              1       Kurtosis       2.559056\n",
      "\n",
      "                   Currently have ADD/ADHD\n",
      "-------------------------------------------------------------\n",
      "      Percentiles      Smallest\n",
      " 1%            1              1\n",
      " 5%            1              1\n",
      "10%            1              1       Obs               5,451\n",
      "25%            1              1       Sum of wgt.       5,451\n",
      "\n",
      "50%            1                      Mean           1.060906\n",
      "                        Largest       Std. dev.      .2391802\n",
      "75%            1              2\n",
      "90%            1              2       Variance       .0572072\n",
      "95%            2              2       Skewness       3.671993\n",
      "99%            2              2       Kurtosis       14.48353\n",
      "\n",
      "                 Currently taking ADHD Meds\n",
      "-------------------------------------------------------------\n",
      "      Percentiles      Smallest\n",
      " 1%            1              1\n",
      " 5%            1              1\n",
      "10%            1              1       Obs               5,557\n",
      "25%            1              1       Sum of wgt.       5,557\n",
      "\n",
      "50%            1                      Mean           1.471657\n",
      "                        Largest       Std. dev.       .499241\n",
      "75%            2              2\n",
      "90%            2              2       Variance       .2492415\n",
      "95%            2              2       Skewness       .1135531\n",
      "99%            2              2       Kurtosis       1.012894\n"
     ]
    }
   ],
   "source": [
    "sum dummy_contact child_adhd adhd_meds, detail"
   ]
  },
  {
   "cell_type": "code",
   "execution_count": 5,
   "id": "3d55b4e5-8190-4353-95c8-26032daccd66",
   "metadata": {
    "tags": []
   },
   "outputs": [
    {
     "name": "stdout",
     "output_type": "stream",
     "text": [
      "\n",
      "-------------------------------------------------------------\n",
      "                            |    Currently taking ADHD Meds  \n",
      "                            |       yes         no      Total\n",
      "----------------------------+--------------------------------\n",
      "School Contact Dummy Var    |                                \n",
      "  None                      |                                \n",
      "    Currently have ADD/ADHD |                                \n",
      "      Yes                   |     1,331        980      2,311\n",
      "      No                    |         3        193        196\n",
      "      Total                 |     1,334      1,173      2,507\n",
      "  School Contact            |                                \n",
      "    Currently have ADD/ADHD |                                \n",
      "      Yes                   |     1,478        992      2,470\n",
      "      No                    |         2        117        119\n",
      "      Total                 |     1,480      1,109      2,589\n",
      "  Total                     |                                \n",
      "    Currently have ADD/ADHD |                                \n",
      "      Yes                   |     2,809      1,972      4,781\n",
      "      No                    |         5        310        315\n",
      "      Total                 |     2,814      2,282      5,096\n",
      "-------------------------------------------------------------\n"
     ]
    }
   ],
   "source": [
    "table dummy_contact child_adhd adhd_meds"
   ]
  },
  {
   "cell_type": "code",
   "execution_count": 11,
   "id": "2a6d88c4-d6df-44fa-b1b1-02aea3be7917",
   "metadata": {
    "tags": []
   },
   "outputs": [
    {
     "name": "stdout",
     "output_type": "stream",
     "text": [
      "(5,451 changes made to child_adhd)\n"
     ]
    }
   ],
   "source": [
    "recode child_adhd (1 = 0) (2=1)"
   ]
  },
  {
   "cell_type": "code",
   "execution_count": 25,
   "id": "eced7bd2-93e8-47f3-a829-a255bd66b316",
   "metadata": {
    "tags": []
   },
   "outputs": [
    {
     "name": "stdout",
     "output_type": "stream",
     "text": [
      "\n",
      "-------------------------------------------------------------------------------\n",
      "child_race                                                        Race of Child\n",
      "-------------------------------------------------------------------------------\n",
      "\n",
      "                  Type: Numeric (float)\n",
      "                 Label: child_race\n",
      "\n",
      "                 Range: [1,7]                         Units: 1\n",
      "         Unique values: 6                         Missing .: 0/54,103\n",
      "\n",
      "            Tabulation: Freq.   Numeric  Label\n",
      "                       41,337         1  White\n",
      "                        3,710         2  Black/AA\n",
      "                          532         3  A. Indian/Alaska Nat.\n",
      "                        3,450         4  Asian\n",
      "                          347         5  Hawaiian/Pac. Islander\n",
      "                        4,727         7  2 or more races\n"
     ]
    }
   ],
   "source": [
    "codebook child_race"
   ]
  },
  {
   "cell_type": "code",
   "execution_count": 16,
   "id": "43d770b3-c52a-41b4-93cf-3635460078fd",
   "metadata": {
    "tags": []
   },
   "outputs": [],
   "source": [
    "gen white=child_race==1\n",
    "\n",
    "label var white \"identifies as white\""
   ]
  },
  {
   "cell_type": "code",
   "execution_count": 24,
   "id": "a6ea3652-7653-4f1d-9dfc-4fb8dccda977",
   "metadata": {
    "tags": []
   },
   "outputs": [],
   "source": [
    "gen Black=child_race==2\n",
    "\n",
    "label var Black \"identifies as Black\""
   ]
  },
  {
   "cell_type": "code",
   "execution_count": 27,
   "id": "218f4e72-d5cc-4df7-a25d-b70967080340",
   "metadata": {
    "tags": []
   },
   "outputs": [],
   "source": [
    "gen Indian=child_race==3\n",
    "\n",
    "label var Indian \"identifies as Indian/Alaska Nat.\""
   ]
  },
  {
   "cell_type": "code",
   "execution_count": 28,
   "id": "eb21e720-c99c-46a1-aadb-556082db0ac0",
   "metadata": {
    "tags": []
   },
   "outputs": [],
   "source": [
    "gen Asian=child_race==4\n",
    "\n",
    "label var Asian \"identifies as Asian\""
   ]
  },
  {
   "cell_type": "code",
   "execution_count": 29,
   "id": "78792ce6-83ff-4d67-91c0-95365efc3fa1",
   "metadata": {
    "tags": []
   },
   "outputs": [],
   "source": [
    "gen Hawaiian_Pac=child_race==5\n",
    "\n",
    "label var Hawaiian_Pac \"identifies as Hawaiian/Pac. Islander\""
   ]
  },
  {
   "cell_type": "code",
   "execution_count": 30,
   "id": "3ad5cf19-4310-473e-ae75-492fea3c8a41",
   "metadata": {
    "tags": []
   },
   "outputs": [],
   "source": [
    "gen multi_race=child_race==7\n",
    "\n",
    "label var multi_race \"identifies as 2 or more races\""
   ]
  },
  {
   "cell_type": "code",
   "execution_count": 32,
   "id": "68145de3-df6b-43f1-9730-49073e4dc1e8",
   "metadata": {
    "tags": []
   },
   "outputs": [
    {
     "name": "stdout",
     "output_type": "stream",
     "text": [
      "(est1 stored)\n",
      "\n",
      "---------------------------------\n",
      "                              (1)\n",
      "                                 \n",
      "                          mean/sd\n",
      "---------------------------------\n",
      "School Contact Dum~r         0.24\n",
      "                           (0.42)\n",
      "identifies as white          0.76\n",
      "                           (0.42)\n",
      "identifies as Black          0.07\n",
      "                           (0.25)\n",
      "identifies as Indi..         0.01\n",
      "                           (0.10)\n",
      "identifies as Asian          0.06\n",
      "                           (0.24)\n",
      "identifies as.. Is~r         0.01\n",
      "                           (0.08)\n",
      "identifies as 2 or~s         0.09\n",
      "                           (0.28)\n",
      "Currently have ADD~D         0.06\n",
      "                           (0.24)\n",
      "Currently taking A~s         1.47\n",
      "                           (0.50)\n",
      "---------------------------------\n",
      "Observations                54103\n",
      "---------------------------------\n"
     ]
    }
   ],
   "source": [
    "est clear\n",
    "eststo: qui estpost summarize dummy_contact white Black Indian Asian Hawaiian_Pac multi_race child_adhd adhd_meds\n",
    "\n",
    "\n",
    "esttab, cells(\"mean(fmt(2))\" sd(par)) label"
   ]
  },
  {
   "cell_type": "code",
   "execution_count": 33,
   "id": "ae1d6df2-5695-4739-a9bf-0b5f122da5d3",
   "metadata": {
    "tags": []
   },
   "outputs": [
    {
     "name": "stdout",
     "output_type": "stream",
     "text": [
      "(output written to tables/t1_descriptives.rft)\n"
     ]
    }
   ],
   "source": [
    "esttab using tables/t1_descriptives.rft, label ///\n",
    "    cells(\"mean(fmt(2))\" sd(par)) replace"
   ]
  },
  {
   "cell_type": "code",
   "execution_count": null,
   "id": "5147da91-1a9e-4b68-9883-92dc4cbb1686",
   "metadata": {},
   "outputs": [],
   "source": []
  }
 ],
 "metadata": {
  "kernelspec": {
   "display_name": "Stata (nbstata)",
   "language": "stata",
   "name": "nbstata"
  },
  "language_info": {
   "file_extension": ".do",
   "mimetype": "text/x-stata",
   "name": "stata",
   "version": "17"
  }
 },
 "nbformat": 4,
 "nbformat_minor": 5
}
