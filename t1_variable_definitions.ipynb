{
 "cells": [
  {
   "cell_type": "code",
   "execution_count": 1,
   "id": "8cad15f3-8efc-44d0-a32f-aa81826bd25a",
   "metadata": {
    "tags": []
   },
   "outputs": [
    {
     "data": {
      "text/html": [
       "<style>div.jp-Notebook .datagrid-container {min-height: 448px; }</style>"
      ],
      "text/plain": [
       "<IPython.core.display.HTML object>"
      ]
     },
     "metadata": {},
     "output_type": "display_data"
    }
   ],
   "source": [
    "use Topical_Data_2022.dta, clear"
   ]
  },
  {
   "cell_type": "code",
   "execution_count": 2,
   "id": "3933dae9-3d6e-4447-ab10-0304c49ae478",
   "metadata": {},
   "outputs": [],
   "source": [
    "keep sc_race_r ace11 sc_age_years sc_racer k2q31a k2q31d k7q04r_r addtreat k2q31b k7q02r_r "
   ]
  },
  {
   "cell_type": "code",
   "execution_count": 3,
   "id": "819b1855-308a-40b1-8421-6e7de5a18c6a",
   "metadata": {
    "tags": []
   },
   "outputs": [],
   "source": [
    "qui label var sc_race_r\"Child's Race\" \n",
    "qui label var ace11\"Mistr. for Diagnosis\"\n",
    "qui label var sc_age_years\"Child's Age\"\n",
    "qui label var k2q31d\"Taking ADHD Meds\"\n",
    "qui label var k7q04r_r\"Times School Contacted w/ Probs\"\n",
    "qui label var k2q31a\"Diagnosed w/ ADHD\"\n",
    "qui label var addtreat\"Behavioral Treatment\"\n",
    "qui label var k2q31b\"Currently have ADHD/ADD\"\n",
    "qui label var k7q02r_r\"Days Child Missed School\""
   ]
  },
  {
   "cell_type": "code",
   "execution_count": 4,
   "id": "d23b9b83-aa4a-4577-b3db-f7aa3cbb593f",
   "metadata": {
    "tags": []
   },
   "outputs": [
    {
     "name": "stdout",
     "output_type": "stream",
     "text": [
      "(20,227 missing values generated)\n"
     ]
    }
   ],
   "source": [
    "gen school_contact=k7q04r_r\n",
    "\n",
    "label var school_contact \"Times School Contacted\"\n",
    "label define school_contact 1\"None\" 2\"1 time\" 3\"2 or more times\" \n",
    "label values school_contact school_contact"
   ]
  },
  {
   "cell_type": "code",
   "execution_count": 5,
   "id": "02b43ba7-6e05-4570-a3ab-66271f77fee4",
   "metadata": {
    "tags": []
   },
   "outputs": [
    {
     "name": "stdout",
     "output_type": "stream",
     "text": [
      "(486 real changes made, 486 to missing)\n",
      "(19,741 real changes made, 19,741 to missing)\n",
      "\n",
      "-------------------------------------------------------------------------------\n",
      "school_contact                                           Times School Contacted\n",
      "-------------------------------------------------------------------------------\n",
      "\n",
      "                  Type: Numeric (float)\n",
      "                 Label: school_contact\n",
      "\n",
      "                 Range: [1,3]                         Units: 1\n",
      "         Unique values: 3                         Missing .: 20,227/54,103\n",
      "\n",
      "            Tabulation: Freq.   Numeric  Label\n",
      "                       25,908         1  None\n",
      "                        3,642         2  1 time\n",
      "                        4,326         3  2 or more times\n",
      "                       20,227         .  \n"
     ]
    }
   ],
   "source": [
    "replace school_contact=. if k7q04r_r==(.m)\n",
    "replace school_contact=. if k7q04r_r==(.n)\n",
    "\n",
    "codebook school_contact"
   ]
  },
  {
   "cell_type": "code",
   "execution_count": 6,
   "id": "86cc21ce-34cc-4b15-b6f0-5ae5b138cb14",
   "metadata": {
    "tags": []
   },
   "outputs": [
    {
     "name": "stdout",
     "output_type": "stream",
     "text": [
      "(20,227 missing values generated)\n",
      "(25,908 real changes made)\n",
      "(7,968 real changes made)\n"
     ]
    }
   ],
   "source": [
    "gen dummy_contact=school_contact\n",
    "\n",
    "label var dummy_contact \"School Contact Dummy Var\"\n",
    "\n",
    "replace dummy_contact=0 if school_contact==1\n",
    "replace dummy_contact=1 if school_contact==2 | school_contact==3\n",
    "\n",
    "label define dummy_contact 0\"None\" 1\"School Contact\"\n",
    "label values dummy_contact dummy_contact"
   ]
  },
  {
   "cell_type": "code",
   "execution_count": 7,
   "id": "98816cda-e34c-48bd-8450-1966ef362f20",
   "metadata": {
    "tags": []
   },
   "outputs": [
    {
     "name": "stdout",
     "output_type": "stream",
     "text": [
      "\n",
      "-------------------------------------------------------------------------------\n",
      "dummy_contact                                          School Contact Dummy Var\n",
      "-------------------------------------------------------------------------------\n",
      "\n",
      "                  Type: Numeric (float)\n",
      "                 Label: dummy_contact\n",
      "\n",
      "                 Range: [0,1]                         Units: 1\n",
      "         Unique values: 2                         Missing .: 20,227/54,103\n",
      "\n",
      "            Tabulation: Freq.   Numeric  Label\n",
      "                       25,908         0  None\n",
      "                        7,968         1  School Contact\n",
      "                       20,227         .  \n"
     ]
    }
   ],
   "source": [
    "codebook dummy_contact"
   ]
  },
  {
   "cell_type": "code",
   "execution_count": 8,
   "id": "d12ad865-b4d4-4b54-88fe-eba497e91b89",
   "metadata": {
    "tags": []
   },
   "outputs": [
    {
     "name": "stdout",
     "output_type": "stream",
     "text": [
      "\n",
      "-------------------------------------------------------------------------------\n",
      "child_race                                                        Race of Child\n",
      "-------------------------------------------------------------------------------\n",
      "\n",
      "                  Type: Numeric (float)\n",
      "                 Label: child_race\n",
      "\n",
      "                 Range: [1,7]                         Units: 1\n",
      "         Unique values: 6                         Missing .: 0/54,103\n",
      "\n",
      "            Tabulation: Freq.   Numeric  Label\n",
      "                       41,337         1  White\n",
      "                        3,710         2  Black/AA\n",
      "                          532         3  A. Indian/Alaska Nat.\n",
      "                        3,450         4  Asian\n",
      "                          347         5  Hawaiian/Pac. Islander\n",
      "                        4,727         7  2 or more races\n"
     ]
    }
   ],
   "source": [
    "gen child_race=sc_race_r\n",
    "\n",
    "label var child_race \"Race of Child\"\n",
    "label define child_race 1\"White\" 2\"Black/AA\" 3\"A. Indian/Alaska Nat.\" 4\"Asian\" 5\"Hawaiian/Pac. Islander\" 7\"2 or more races\"\n",
    "label values child_race child_race\n",
    "\n",
    "codebook child_race"
   ]
  },
  {
   "cell_type": "code",
   "execution_count": 9,
   "id": "0f61603a-30f7-492f-9a20-f071a786addf",
   "metadata": {
    "tags": []
   },
   "outputs": [
    {
     "name": "stdout",
     "output_type": "stream",
     "text": [
      "(48,652 missing values generated)\n"
     ]
    }
   ],
   "source": [
    "gen child_adhd=k2q31b\n",
    "\n",
    "label var child_adhd \"Currently have ADD/ADHD\"\n",
    "label define child_adhd 1\"Yes\" 2\"No\" \n",
    "label values child_adhd child_adhd"
   ]
  },
  {
   "cell_type": "code",
   "execution_count": 10,
   "id": "a7ab7322-3952-4da1-be42-f303d3adcc1d",
   "metadata": {
    "tags": []
   },
   "outputs": [
    {
     "name": "stdout",
     "output_type": "stream",
     "text": [
      "(432 real changes made, 432 to missing)\n",
      "(48,220 real changes made, 48,220 to missing)\n",
      "\n",
      "-------------------------------------------------------------------------------\n",
      "child_adhd                                              Currently have ADD/ADHD\n",
      "-------------------------------------------------------------------------------\n",
      "\n",
      "                  Type: Numeric (float)\n",
      "                 Label: child_adhd\n",
      "\n",
      "                 Range: [1,2]                         Units: 1\n",
      "         Unique values: 2                         Missing .: 48,652/54,103\n",
      "\n",
      "            Tabulation: Freq.   Numeric  Label\n",
      "                        5,119         1  Yes\n",
      "                          332         2  No\n",
      "                       48,652         .  \n"
     ]
    }
   ],
   "source": [
    "replace child_adhd=. if k2q31b==(.m)\n",
    "replace child_adhd=. if k2q31b==(.l)\n",
    "\n",
    "codebook child_adhd"
   ]
  },
  {
   "cell_type": "code",
   "execution_count": 11,
   "id": "4b139051-4b8b-4fdc-b341-9428e7f3cc1f",
   "metadata": {
    "tags": []
   },
   "outputs": [
    {
     "name": "stdout",
     "output_type": "stream",
     "text": [
      "\n",
      "                |    Currently have\n",
      "   Times School |       ADD/ADHD\n",
      "      Contacted |       Yes         No |     Total\n",
      "----------------+----------------------+----------\n",
      "           None |     2,316        198 |     2,514 \n",
      "         1 time |       731         55 |       786 \n",
      "2 or more times |     1,760         65 |     1,825 \n",
      "----------------+----------------------+----------\n",
      "          Total |     4,807        318 |     5,125 \n"
     ]
    }
   ],
   "source": [
    "tab school_contact child_adhd"
   ]
  },
  {
   "cell_type": "code",
   "execution_count": 12,
   "id": "5cbd6499-3903-4eb1-b819-0fed7b252c8e",
   "metadata": {
    "tags": []
   },
   "outputs": [
    {
     "name": "stdout",
     "output_type": "stream",
     "text": [
      "(48,546 missing values generated)\n",
      "(326 real changes made, 326 to missing)\n",
      "(48,220 real changes made, 48,220 to missing)\n",
      "\n",
      "-------------------------------------------------------------------------------\n",
      "adhd_meds                                            Currently taking ADHD Meds\n",
      "-------------------------------------------------------------------------------\n",
      "\n",
      "                  Type: Numeric (float)\n",
      "                 Label: adhd_meds\n",
      "\n",
      "                 Range: [1,2]                         Units: 1\n",
      "         Unique values: 2                         Missing .: 48,546/54,103\n",
      "\n",
      "            Tabulation: Freq.   Numeric  Label\n",
      "                        2,936         1  yes\n",
      "                        2,621         2  no\n",
      "                       48,546         .  \n"
     ]
    }
   ],
   "source": [
    "gen adhd_meds=k2q31d\n",
    "\n",
    "label var adhd_meds \"Currently taking ADHD Meds\"\n",
    "label define adhd_meds 1\"yes\" 2\"no\" \n",
    "label values adhd_meds adhd_meds\n",
    "replace adhd_meds=. if k2q31d==(.m)\n",
    "replace adhd_meds=. if k2q31d==(.l) \n",
    "\n",
    "codebook adhd_meds"
   ]
  },
  {
   "cell_type": "code",
   "execution_count": 13,
   "id": "92c00aa1-16b9-456c-a1fe-88b176f7430c",
   "metadata": {
    "tags": []
   },
   "outputs": [
    {
     "name": "stdout",
     "output_type": "stream",
     "text": [
      "(20,188 missing values generated)\n",
      "\n",
      "-------------------------------------------------------------------------------\n",
      "missed_days                                            Days Child Missed School\n",
      "-------------------------------------------------------------------------------\n",
      "\n",
      "                  Type: Numeric (float)\n",
      "                 Label: missed_days\n",
      "\n",
      "                 Range: [1,6]                         Units: 1\n",
      "         Unique values: 6                         Missing .: 0/54,103\n",
      "       Unique mv codes: 2                        Missing .*: 20,188/54,103\n",
      "\n",
      "            Tabulation: Freq.   Numeric  Label\n",
      "                        8,583         1  No Missed Days\n",
      "                       12,166         2  1-3 Days\n",
      "                        6,453         3  4-6 Days\n",
      "                        3,736         4  7-10 Days\n",
      "                        2,768         5  11 or More Days\n",
      "                          209         6  Child not Enrolled\n",
      "                          447        .m  \n",
      "                       19,741        .n  \n"
     ]
    }
   ],
   "source": [
    "gen missed_days=k7q02r_r\n",
    "\n",
    "label var missed_days \"Days Child Missed School\"\n",
    "label define missed_days 1\"No Missed Days\" 2\"1-3 Days\" 3\"4-6 Days\" 4\"7-10 Days\" 5\"11 or More Days\" 6\"Child not Enrolled\"\n",
    "label values missed_days missed_days\n",
    "\n",
    "codebook missed_days"
   ]
  },
  {
   "cell_type": "code",
   "execution_count": 14,
   "id": "4c90a350-b546-4b7e-8825-2cd3f75bab8a",
   "metadata": {
    "tags": []
   },
   "outputs": [
    {
     "name": "stdout",
     "output_type": "stream",
     "text": [
      "\n",
      "Contains data from Topical_Data_2022.dta\n",
      " Observations:        54,103                  \n",
      "    Variables:            16                  30 Apr 2024 09:47\n",
      "-------------------------------------------------------------------------------\n",
      "Variable      Storage   Display    Value\n",
      "    name         type    format    label      Variable label\n",
      "-------------------------------------------------------------------------------\n",
      "sc_age_years    byte    %8.0g                 Child's Age\n",
      "k2q31a          byte    %10.0g                Diagnosed w/ ADHD\n",
      "k2q31b          byte    %10.0g                Currently have ADHD/ADD\n",
      "k2q31d          byte    %10.0g                Taking ADHD Meds\n",
      "addtreat        byte    %10.0g                Behavioral Treatment\n",
      "ace11           byte    %10.0g                Mistr. for Diagnosis\n",
      "k7q02r_r        byte    %10.0g                Days Child Missed School\n",
      "k7q04r_r        byte    %10.0g                Times School Contacted w/ Probs\n",
      "sc_race_r       byte    %8.0g                 Child's Race\n",
      "sc_racer        byte    %8.0g                 SC_RACER\n",
      "school_contact  float   %15.0g     school_contact\n",
      "                                              Times School Contacted\n",
      "dummy_contact   float   %14.0g     dummy_contact\n",
      "                                              School Contact Dummy Var\n",
      "child_race      float   %22.0g     child_race\n",
      "                                              Race of Child\n",
      "child_adhd      float   %9.0g      child_adhd\n",
      "                                              Currently have ADD/ADHD\n",
      "adhd_meds       float   %9.0g      adhd_meds\n",
      "                                              Currently taking ADHD Meds\n",
      "missed_days     float   %18.0g     missed_days\n",
      "                                              Days Child Missed School\n",
      "-------------------------------------------------------------------------------\n",
      "Sorted by: \n",
      "     Note: Dataset has changed since last saved.\n"
     ]
    }
   ],
   "source": [
    "describe"
   ]
  },
  {
   "cell_type": "code",
   "execution_count": 15,
   "id": "9c26a8f3-39be-48d7-abae-a05d082f00cf",
   "metadata": {
    "tags": []
   },
   "outputs": [
    {
     "name": "stdout",
     "output_type": "stream",
     "text": [
      "checking asdoc consistency and verifying not already installed...\n",
      "all files already exist and are up to date.\n"
     ]
    }
   ],
   "source": [
    "ssc install asdoc"
   ]
  },
  {
   "cell_type": "code",
   "execution_count": 17,
   "id": "d3a0c45b-1238-4978-b564-984257e1b43c",
   "metadata": {
    "tags": []
   },
   "outputs": [
    {
     "name": "stdout",
     "output_type": "stream",
     "text": [
      "Click to Open File:  tables/t1_variable_descriptions.doc\n"
     ]
    }
   ],
   "source": [
    "asdoc des, replace title(Table 1: Variable Descriptions) ///\n",
    "    save(tables/t1_variable_descriptions)"
   ]
  },
  {
   "cell_type": "code",
   "execution_count": 18,
   "id": "db9abca3-3fff-4d67-9a32-2e38dedc003c",
   "metadata": {
    "tags": []
   },
   "outputs": [],
   "source": [
    "describe, replace clear"
   ]
  },
  {
   "cell_type": "code",
   "execution_count": 19,
   "id": "ee3e1f04-208e-40a1-bd87-0207cedce746",
   "metadata": {},
   "outputs": [],
   "source": [
    "rename name Variable\n",
    "rename varlab Description"
   ]
  },
  {
   "cell_type": "code",
   "execution_count": 20,
   "id": "0217c95f-2748-4b16-9535-c29fa0a6a391",
   "metadata": {},
   "outputs": [
    {
     "name": "stdout",
     "output_type": "stream",
     "text": [
      "\n",
      "  +--------------------------------------------------+\n",
      "  |       Variable                       Description |\n",
      "  |--------------------------------------------------|\n",
      "  |   sc_age_years                       Child's Age |\n",
      "  |         k2q31a                 Diagnosed w/ ADHD |\n",
      "  |         k2q31b           Currently have ADHD/ADD |\n",
      "  |         k2q31d                  Taking ADHD Meds |\n",
      "  |       addtreat              Behavioral Treatment |\n",
      "  |          ace11              Mistr. for Diagnosis |\n",
      "  |       k7q02r_r          Days Child Missed School |\n",
      "  |       k7q04r_r   Times School Contacted w/ Probs |\n",
      "  |      sc_race_r                      Child's Race |\n",
      "  |       sc_racer                          SC_RACER |\n",
      "  | school_contact            Times School Contacted |\n",
      "  |  dummy_contact          School Contact Dummy Var |\n",
      "  |     child_race                     Race of Child |\n",
      "  |     child_adhd           Currently have ADD/ADHD |\n",
      "  |      adhd_meds        Currently taking ADHD Meds |\n",
      "  |    missed_days          Days Child Missed School |\n",
      "  +--------------------------------------------------+\n"
     ]
    }
   ],
   "source": [
    "list Variable Description, noobs separator(0)"
   ]
  },
  {
   "cell_type": "code",
   "execution_count": 22,
   "id": "baaa8b4a-a2ee-4b4b-9460-b300b928ba0b",
   "metadata": {
    "tags": []
   },
   "outputs": [
    {
     "name": "stdout",
     "output_type": "stream",
     "text": [
      "file Cleaned_Data.dta saved\n"
     ]
    }
   ],
   "source": [
    "save Cleaned_Data.dta, replace"
   ]
  },
  {
   "cell_type": "code",
   "execution_count": null,
   "id": "e20b7f11-30c9-4aec-a2d0-bd5a3307885e",
   "metadata": {},
   "outputs": [],
   "source": []
  }
 ],
 "metadata": {
  "kernelspec": {
   "display_name": "Stata (nbstata)",
   "language": "stata",
   "name": "nbstata"
  },
  "language_info": {
   "file_extension": ".do",
   "mimetype": "text/x-stata",
   "name": "stata",
   "version": "17"
  }
 },
 "nbformat": 4,
 "nbformat_minor": 5
}
