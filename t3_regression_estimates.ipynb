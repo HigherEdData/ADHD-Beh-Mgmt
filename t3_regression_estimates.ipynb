{
 "cells": [
  {
   "cell_type": "code",
   "execution_count": 3,
   "id": "a7089341-3ee9-4e1d-91a6-f6361550b118",
   "metadata": {
    "tags": []
   },
   "outputs": [],
   "source": [
    "use data/Cleaned_Data.dta, clear"
   ]
  },
  {
   "cell_type": "code",
   "execution_count": 4,
   "id": "97566e66-57c9-4f12-97ae-6685e45712f8",
   "metadata": {
    "tags": []
   },
   "outputs": [
    {
     "name": "stdout",
     "output_type": "stream",
     "text": [
      "\n",
      "-------------------------------------------------------------------------------\n",
      "missed_days                                            Days Child Missed School\n",
      "-------------------------------------------------------------------------------\n",
      "\n",
      "                  Type: Numeric (float)\n",
      "                 Label: missed_days\n",
      "\n",
      "                 Range: [1,6]                         Units: 1\n",
      "         Unique values: 6                         Missing .: 0/54,103\n",
      "       Unique mv codes: 2                        Missing .*: 20,188/54,103\n",
      "\n",
      "            Tabulation: Freq.   Numeric  Label\n",
      "                        8,583         1  No Missed Days\n",
      "                       12,166         2  1-3 Days\n",
      "                        6,453         3  4-6 Days\n",
      "                        3,736         4  7-10 Days\n",
      "                        2,768         5  11 or More Days\n",
      "                          209         6  Child not Enrolled\n",
      "                          447        .m  \n",
      "                       19,741        .n  \n"
     ]
    }
   ],
   "source": [
    "codebook missed_days"
   ]
  },
  {
   "cell_type": "code",
   "execution_count": 5,
   "id": "81b1fb7d-4fa0-4079-9ae0-9638a54a4d10",
   "metadata": {
    "tags": []
   },
   "outputs": [
    {
     "name": "stdout",
     "output_type": "stream",
     "text": [
      "\n",
      "-------------------------------------------------------------------------------\n",
      "dummy_contact                                          School Contact Dummy Var\n",
      "-------------------------------------------------------------------------------\n",
      "\n",
      "                  Type: Numeric (float)\n",
      "                 Label: dummy_contact\n",
      "\n",
      "                 Range: [0,1]                         Units: 1\n",
      "         Unique values: 2                         Missing .: 20,227/54,103\n",
      "\n",
      "            Tabulation: Freq.   Numeric  Label\n",
      "                       25,908         0  None\n",
      "                        7,968         1  School Contact\n",
      "                       20,227         .  \n"
     ]
    }
   ],
   "source": [
    "codebook dummy_contact"
   ]
  },
  {
   "cell_type": "code",
   "execution_count": 17,
   "id": "31e71a62-51b4-495f-afd1-60561090408e",
   "metadata": {
    "tags": []
   },
   "outputs": [],
   "source": [
    "est clear"
   ]
  },
  {
   "cell_type": "code",
   "execution_count": 11,
   "id": "91246fd8-d2c9-4748-9573-948a4a870a67",
   "metadata": {
    "tags": []
   },
   "outputs": [
    {
     "name": "stdout",
     "output_type": "stream",
     "text": [
      "\n",
      "    Variable |        Obs        Mean    Std. dev.       Min        Max\n",
      "-------------+---------------------------------------------------------\n",
      "school_con~t |     33,876    1.362912    .6975839          1          3\n"
     ]
    }
   ],
   "source": [
    "sum school_contact"
   ]
  },
  {
   "cell_type": "code",
   "execution_count": 18,
   "id": "f0a00d1e-c314-4e56-91dc-06e924fd6557",
   "metadata": {
    "tags": []
   },
   "outputs": [
    {
     "name": "stdout",
     "output_type": "stream",
     "text": [
      "\n",
      "Linear regression                               Number of obs     =      5,096\n",
      "                                                F(2, 5093)        =      21.17\n",
      "                                                Prob > F          =     0.0000\n",
      "                                                R-squared         =     0.0067\n",
      "                                                Root MSE          =     .90696\n",
      "\n",
      "------------------------------------------------------------------------------\n",
      "             |               Robust\n",
      "school_con~t | Coefficient  std. err.      t    P>|t|     [95% conf. interval]\n",
      "-------------+----------------------------------------------------------------\n",
      "  child_adhd |\n",
      "        Yes  |   .2777347   .0496596     5.59   0.000     .1803805     .375089\n",
      "             |\n",
      "   adhd_meds |\n",
      "        yes  |   .0393752   .0267238     1.47   0.141    -.0130149    .0917653\n",
      "             |\n",
      "       _cons |   1.580327   .0454444    34.77   0.000     1.491237    1.669418\n",
      "------------------------------------------------------------------------------\n",
      "(est1 stored)\n"
     ]
    }
   ],
   "source": [
    "eststo: reg school_contact ib2.child_adhd ib2.adhd_meds, ro"
   ]
  },
  {
   "cell_type": "code",
   "execution_count": 19,
   "id": "d9c021e3-cee1-4f6f-912d-186401ccf03d",
   "metadata": {
    "tags": []
   },
   "outputs": [
    {
     "name": "stdout",
     "output_type": "stream",
     "text": [
      "\n",
      "Linear regression                               Number of obs     =      5,096\n",
      "                                                F(2, 5093)        =      13.32\n",
      "                                                Prob > F          =     0.0000\n",
      "                                                R-squared         =     0.0050\n",
      "                                                Root MSE          =     .49884\n",
      "\n",
      "------------------------------------------------------------------------------\n",
      "             |               Robust\n",
      "dummy_cont~t | Coefficient  std. err.      t    P>|t|     [95% conf. interval]\n",
      "-------------+----------------------------------------------------------------\n",
      "  child_adhd |\n",
      "        Yes  |   .1256332   .0294836     4.26   0.000     .0678327    .1834336\n",
      "             |\n",
      "   adhd_meds |\n",
      "        yes  |    .023121   .0146528     1.58   0.115    -.0056048    .0518468\n",
      "             |\n",
      "       _cons |   .3774108   .0273257    13.81   0.000     .3238407    .4309809\n",
      "------------------------------------------------------------------------------\n",
      "(est2 stored)\n"
     ]
    }
   ],
   "source": [
    "eststo: reg dummy_contact ib2.child_adhd ib2.adhd_meds, ro"
   ]
  },
  {
   "cell_type": "code",
   "execution_count": 31,
   "id": "d08b9997-e83a-4753-8ac7-e7f0672f10c1",
   "metadata": {
    "tags": []
   },
   "outputs": [
    {
     "name": "stdout",
     "output_type": "stream",
     "text": [
      "\n",
      "Iteration 0:  Log likelihood = -3531.6183  \n",
      "Iteration 1:  Log likelihood = -3518.8846  \n",
      "Iteration 2:  Log likelihood = -3518.8809  \n",
      "Iteration 3:  Log likelihood = -3518.8809  \n",
      "\n",
      "Logistic regression                                     Number of obs =  5,096\n",
      "                                                        LR chi2(2)    =  25.47\n",
      "                                                        Prob > chi2   = 0.0000\n",
      "Log likelihood = -3518.8809                             Pseudo R2     = 0.0036\n",
      "\n",
      "-------------------------------------------------------------------------------\n",
      "dummy_contact | Coefficient  Std. err.      z    P>|z|     [95% conf. interval]\n",
      "--------------+----------------------------------------------------------------\n",
      "   child_adhd |\n",
      "         Yes  |   .5126412    .124358     4.12   0.000     .2689039    .7563785\n",
      "              |\n",
      "    adhd_meds |\n",
      "         yes  |   .0925988   .0586714     1.58   0.115    -.0223952    .2075927\n",
      "              |\n",
      "        _cons |  -.5004765   .1162185    -4.31   0.000    -.7282606   -.2726924\n",
      "-------------------------------------------------------------------------------\n",
      "(est5 stored)\n"
     ]
    }
   ],
   "source": [
    "eststo: logit dummy_contact ib2.child_adhd ib2.adhd_meds"
   ]
  },
  {
   "cell_type": "code",
   "execution_count": 32,
   "id": "9941bc9e-7498-4384-be3b-c659ba51710d",
   "metadata": {
    "tags": []
   },
   "outputs": [
    {
     "name": "stdout",
     "output_type": "stream",
     "text": [
      "\n",
      "Conditional marginal effects                             Number of obs = 5,096\n",
      "Model VCE: OIM\n",
      "\n",
      "Expression: Pr(dummy_contact), predict()\n",
      "dy/dx wrt:  1.child_adhd 1.adhd_meds\n",
      "At: 1.child_adhd = .9381868 (mean)\n",
      "    2.child_adhd = .0618132 (mean)\n",
      "    1.adhd_meds  = .5521978 (mean)\n",
      "    2.adhd_meds  = .4478022 (mean)\n",
      "\n",
      "------------------------------------------------------------------------------\n",
      "             |            Delta-method\n",
      "             |      dy/dx   std. err.      z    P>|z|     [95% conf. interval]\n",
      "-------------+----------------------------------------------------------------\n",
      "  child_adhd |\n",
      "        Yes  |   .1263023   .0296606     4.26   0.000     .0681687    .1844359\n",
      "             |\n",
      "   adhd_meds |\n",
      "        yes  |   .0231414   .0146583     1.58   0.114    -.0055884    .0518712\n",
      "------------------------------------------------------------------------------\n",
      "Note: dy/dx for factor levels is the discrete change from the base level.\n",
      "(est6 stored)\n"
     ]
    }
   ],
   "source": [
    "eststo: margins, dydx(*) post atmeans"
   ]
  },
  {
   "cell_type": "code",
   "execution_count": 33,
   "id": "86f0e68b-dd87-4958-9e74-ef6accf198ad",
   "metadata": {
    "tags": []
   },
   "outputs": [],
   "source": [
    "set line 150"
   ]
  },
  {
   "cell_type": "code",
   "execution_count": 34,
   "id": "6e97255b-5e9f-476f-b390-d3afa898eece",
   "metadata": {
    "tags": []
   },
   "outputs": [
    {
     "name": "stdout",
     "output_type": "stream",
     "text": [
      "\n",
      "Unexpontiated Coefficients\n",
      "------------------------------------------------------------------------------------------------------------------\n",
      "                      (1)              (2)              (3)              (4)              (5)              (6)    \n",
      "              ordinal OLS              OLS     MLE / logi~c     MLE margin~s             est5             est6    \n",
      "------------------------------------------------------------------------------------------------------------------\n",
      "main                                                                                                              \n",
      "1.child_adhd         0.28 ***         0.13 ***         0.51 ***         0.13 ***         0.51 ***         0.13 ***\n",
      "                   (0.05)           (0.03)           (0.12)           (0.03)           (0.12)           (0.03)    \n",
      "2.child_adhd         0.00             0.00             0.00             0.00             0.00             0.00    \n",
      "                      (.)              (.)              (.)              (.)              (.)              (.)    \n",
      "1.adhd_meds          0.04             0.02             0.09             0.02             0.09             0.02    \n",
      "                   (0.03)           (0.01)           (0.06)           (0.01)           (0.06)           (0.01)    \n",
      "2.adhd_meds          0.00             0.00             0.00             0.00             0.00             0.00    \n",
      "                      (.)              (.)              (.)              (.)              (.)              (.)    \n",
      "_cons                1.58 ***         0.38 ***        -0.50 ***                         -0.50 ***                 \n",
      "                   (0.05)           (0.03)           (0.12)                            (0.12)                     \n",
      "------------------------------------------------------------------------------------------------------------------\n",
      "N                    5096             5096             5096             5096             5096             5096    \n",
      "------------------------------------------------------------------------------------------------------------------\n",
      "^ p<.1, * p<.05, ** p<.01, *** p<.001\n"
     ]
    }
   ],
   "source": [
    "esttab ///\n",
    ", cells(b(star fmt(2)) se(fmt(2) par)) stardetach  ///\n",
    "\tlegend starlevels(^ .1 * .05 ** .01 *** .001) ///\n",
    "mlabels(\"ordinal OLS\" \"OLS\" \"MLE / logistic\" \"MLE marginal effects\") title(\"Unexpontiated Coefficients\") ///\n",
    "collabels(none) "
   ]
  },
  {
   "cell_type": "code",
   "execution_count": 35,
   "id": "5a981579-3d16-4792-80a8-8ba986c6edee",
   "metadata": {},
   "outputs": [
    {
     "name": "stdout",
     "output_type": "stream",
     "text": [
      "(output written to tables/t3_regression.rtf)\n"
     ]
    }
   ],
   "source": [
    "esttab using tables/t3_regression.rtf ///\n",
    ", cells(b(star fmt(2)) se(fmt(2) par)) stardetach  ///\n",
    "\tlegend starlevels(^ .1 * .05 ** .01 *** .001) ///\n",
    "mlabels(\"OLS\" \"MLE / logistic\" \"MLE marginal effects\") title(\"Odds Ratio\") ///\n",
    "collabels(none) replace"
   ]
  },
  {
   "cell_type": "code",
   "execution_count": null,
   "id": "29df045c-d264-4fed-915e-23a85d20fc80",
   "metadata": {},
   "outputs": [],
   "source": []
  }
 ],
 "metadata": {
  "kernelspec": {
   "display_name": "Stata (nbstata)",
   "language": "stata",
   "name": "nbstata"
  },
  "language_info": {
   "file_extension": ".do",
   "mimetype": "text/x-stata",
   "name": "stata",
   "version": "17"
  }
 },
 "nbformat": 4,
 "nbformat_minor": 5
}
